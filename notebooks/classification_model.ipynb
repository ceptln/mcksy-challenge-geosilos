{
 "cells": [
  {
   "attachments": {},
   "cell_type": "markdown",
   "id": "78bfe862",
   "metadata": {},
   "source": [
    "<h1> Classification Model"
   ]
  },
  {
   "attachments": {},
   "cell_type": "markdown",
   "id": "b46b34c8",
   "metadata": {},
   "source": [
    "#### _Installs, imports and paths_"
   ]
  },
  {
   "cell_type": "code",
   "execution_count": 1,
   "id": "d52e7b04-4a6f-41ce-9d2a-b741d0635129",
   "metadata": {},
   "outputs": [],
   "source": [
    "import os\n",
    "import pandas as pd\n",
    "import numpy as np\n",
    "import matplotlib.pyplot as plt\n",
    "import matplotlib.style as style\n",
    "%matplotlib inline\n",
    "\n",
    "from time import time"
   ]
  },
  {
   "cell_type": "code",
   "execution_count": 2,
   "id": "9429a9a6-ce6f-4340-be4d-2a734fc60e88",
   "metadata": {},
   "outputs": [
    {
     "name": "stderr",
     "output_type": "stream",
     "text": [
      "2023-01-05 18:53:29.184063: I tensorflow/core/platform/cpu_feature_guard.cc:193] This TensorFlow binary is optimized with oneAPI Deep Neural Network Library (oneDNN) to use the following CPU instructions in performance-critical operations:  AVX2 FMA\n",
      "To enable them in other operations, rebuild TensorFlow with the appropriate compiler flags.\n"
     ]
    }
   ],
   "source": [
    "import tensorflow as tf\n",
    "from tensorflow import keras\n",
    "from tensorflow.keras import layers\n",
    "from tensorflow.keras.preprocessing import image"
   ]
  },
  {
   "cell_type": "code",
   "execution_count": 3,
   "id": "bd2e1bd8-d710-4a8c-912a-f9f48c2ed40c",
   "metadata": {},
   "outputs": [],
   "source": [
    "path_csv = '../data/x-ai_data.csv'\n",
    "path_img = \"../data/images/\"\n",
    "path_img_classified = \"../data/images_classified/\""
   ]
  },
  {
   "attachments": {},
   "cell_type": "markdown",
   "id": "73ac80cc",
   "metadata": {},
   "source": [
    "## Load data"
   ]
  },
  {
   "cell_type": "code",
   "execution_count": 4,
   "id": "94779da0-4bf2-41c9-9fa8-40bd2aeaf416",
   "metadata": {},
   "outputs": [
    {
     "name": "stdout",
     "output_type": "stream",
     "text": [
      "(1999, 3)\n"
     ]
    },
    {
     "data": {
      "text/html": [
       "<div>\n",
       "<style scoped>\n",
       "    .dataframe tbody tr th:only-of-type {\n",
       "        vertical-align: middle;\n",
       "    }\n",
       "\n",
       "    .dataframe tbody tr th {\n",
       "        vertical-align: top;\n",
       "    }\n",
       "\n",
       "    .dataframe thead th {\n",
       "        text-align: right;\n",
       "    }\n",
       "</style>\n",
       "<table border=\"1\" class=\"dataframe\">\n",
       "  <thead>\n",
       "    <tr style=\"text-align: right;\">\n",
       "      <th></th>\n",
       "      <th>filename</th>\n",
       "      <th>class</th>\n",
       "      <th>split</th>\n",
       "    </tr>\n",
       "  </thead>\n",
       "  <tbody>\n",
       "    <tr>\n",
       "      <th>0</th>\n",
       "      <td>silos_256-0-0--6-15--152-30320.png</td>\n",
       "      <td>0</td>\n",
       "      <td>validation</td>\n",
       "    </tr>\n",
       "    <tr>\n",
       "      <th>1</th>\n",
       "      <td>silos_256-0-0--6-15--1195-31353.png</td>\n",
       "      <td>0</td>\n",
       "      <td>train</td>\n",
       "    </tr>\n",
       "    <tr>\n",
       "      <th>2</th>\n",
       "      <td>silos_256-0-0--6-15-283-30628.png</td>\n",
       "      <td>0</td>\n",
       "      <td>train</td>\n",
       "    </tr>\n",
       "  </tbody>\n",
       "</table>\n",
       "</div>"
      ],
      "text/plain": [
       "                              filename  class       split\n",
       "0   silos_256-0-0--6-15--152-30320.png      0  validation\n",
       "1  silos_256-0-0--6-15--1195-31353.png      0       train\n",
       "2    silos_256-0-0--6-15-283-30628.png      0       train"
      ]
     },
     "execution_count": 4,
     "metadata": {},
     "output_type": "execute_result"
    }
   ],
   "source": [
    "data_info = pd.read_csv(path_csv)\n",
    "print(data_info.shape)\n",
    "data_info.head(3)"
   ]
  },
  {
   "attachments": {},
   "cell_type": "markdown",
   "id": "067d79e0",
   "metadata": {},
   "source": [
    "## Split pictures according to labels\n",
    "_To be done once_"
   ]
  },
  {
   "cell_type": "code",
   "execution_count": 7,
   "id": "462ce143-39d2-46ef-8924-d453f77725d7",
   "metadata": {},
   "outputs": [],
   "source": [
    "import os\n",
    " \n",
    "source = '../data/images'\n",
    "destination = '../data/images_classified/not_silos'\n",
    " \n",
    "# gather all files\n",
    "allfiles = data_info[data_info['class'] == 0].filename.values\n",
    " \n",
    "# iterate on all files to move them to destination folder\n",
    "for f in allfiles:\n",
    "    src_path = os.path.join(source, f)\n",
    "    dst_path = os.path.join(destination, f)\n",
    "    os.rename(src_path, dst_path)"
   ]
  },
  {
   "cell_type": "raw",
   "id": "7031cd86-8926-4a31-8120-7905b56b6f55",
   "metadata": {},
   "source": [
    "# To run once to split the pictures according to the expected classification\n",
    "import os\n",
    "import shutil\n",
    " \n",
    "source = '../data/images'\n",
    "destination = '../data/images_classified'\n",
    "config = {0: \"silos\", 1: \"not_silos\"}\n",
    "for i in [0,1]:\n",
    "    name = config.get(i)\n",
    "    # gather all files\n",
    "    allfiles = data_info[data_info['class'] == i].filename.values\n",
    "\n",
    "    # iterate on all files to move them to destination folder\n",
    "    for f in allfiles:\n",
    "        src_path = os.path.join(source, f)\n",
    "        dst_path = os.path.join(os.path.join(destination, name), f)\n",
    "        shutil.copyfile(src_path, dst_path)"
   ]
  },
  {
   "cell_type": "raw",
   "id": "a7622936",
   "metadata": {},
   "source": [
    "# To run once to split the pictures according to the expected classification"
   ]
  },
  {
   "cell_type": "raw",
   "id": "680d3d3e-6c8e-4d26-a07b-f11c0c4c5fa5",
   "metadata": {},
   "source": [
    "# get the list of jpegs from sub image class folders\n",
    "silos_imgs = [fn for fn in os.listdir(f'{path_img_classified}silos') if fn.endswith('.png')]\n",
    "not_silos_imgs = [fn for fn in os.listdir(f'{path_img_classified}not_silos') if fn.endswith('.png')]\n",
    "\n",
    "# randomly select 3 of each\n",
    "select_silos = np.random.choice(silos_imgs, 3, replace = False)\n",
    "select_not_silos = np.random.choice(not_silos_imgs, 3, replace = False)\n",
    "\n",
    "# plotting 2 x 3 image matrix\n",
    "fig = plt.figure(figsize = (12,8))\n",
    "for i in range(6):\n",
    "    if i < 3:\n",
    "        fp = f'{path_img_classified}silos/{select_silos[i]}'\n",
    "        label = 'SILOS'\n",
    "    else:\n",
    "        fp = f'{path_img_classified}not_silos/{select_not_silos[i-3]}'\n",
    "        label = 'NOT SILOS'\n",
    "    ax = fig.add_subplot(2, 3, i+1)\n",
    "    \n",
    "    # to plot without rescaling, remove target_size\n",
    "    fn = image.load_img(fp, target_size = (256,256,3))\n",
    "    plt.imshow(fn)\n",
    "    plt.title(label)\n",
    "    plt.axis('off')\n",
    "plt.show()"
   ]
  },
  {
   "cell_type": "code",
   "execution_count": 13,
   "id": "757c66e5-4ae8-4b9e-99d3-b44643adbff1",
   "metadata": {},
   "outputs": [],
   "source": [
    "imgs = [fn for fn in os.listdir(f'{path_img}') if fn.endswith('.png')]\n",
    "silos_imgs = [fn for fn in os.listdir('../data/images_classified/silos/') if fn.endswith('.png')]\n",
    "not_silos_imgs = [fn for fn in os.listdir('../data/images_classified/not_silos/') if fn.endswith('.png')]"
   ]
  },
  {
   "cell_type": "code",
   "execution_count": 14,
   "id": "970d5556-5078-4a66-867a-74b51cdc190a",
   "metadata": {},
   "outputs": [
    {
     "name": "stdout",
     "output_type": "stream",
     "text": [
      "Number of images : 1999.\n",
      "Number of silos : 999.\n",
      "Number of not_silos : 1999.\n"
     ]
    }
   ],
   "source": [
    "# Check the number of files\n",
    "print(f\"Number of images : {len(imgs)}.\")\n",
    "print(f\"Number of silos : {len(silos_imgs)}.\")\n",
    "print(f\"Number of not_silos : {len(not_silos_imgs)}.\")"
   ]
  },
  {
   "cell_type": "code",
   "execution_count": 15,
   "id": "f245edea-6e11-4ebb-84a6-da287f3c2e6d",
   "metadata": {},
   "outputs": [],
   "source": [
    "# making n X m matrix\n",
    "def img2np(path, list_of_filename, size=(256, 256, 3)):\n",
    "    # iterating through each file\n",
    "    for fn in list_of_filename:\n",
    "        fp = path + fn\n",
    "        # print(fp)\n",
    "        current_image = image.load_img(fp, target_size=size)\n",
    "        # covert image to a matrix\n",
    "        img_ts = image.img_to_array(current_image)\n",
    "        # turn that into a vector / 1D array\n",
    "        img_ts = [img_ts.ravel()]\n",
    "        try:\n",
    "            # concatenate different images\n",
    "            full_mat = np.concatenate((full_mat, img_ts))\n",
    "        except UnboundLocalError: \n",
    "            # if not assigned yet, assign one\n",
    "            full_mat = img_ts\n",
    "    return full_mat"
   ]
  },
  {
   "cell_type": "code",
   "execution_count": 16,
   "id": "71f38ee7-74ab-4264-b74f-fbdda2d2b2a4",
   "metadata": {
    "tags": []
   },
   "outputs": [],
   "source": [
    "# run it on our folders\n",
    "silos_images_2 = img2np(f'{path_img_classified}silos/', silos_imgs)"
   ]
  },
  {
   "cell_type": "code",
   "execution_count": 17,
   "id": "d1535e96-7598-452d-a488-8cdefe6f6da4",
   "metadata": {},
   "outputs": [],
   "source": [
    "# run it on our folders\n",
    "silos_images = img2np(f'{path_img_classified}silos/', silos_imgs)"
   ]
  },
  {
   "cell_type": "code",
   "execution_count": 18,
   "id": "9ed6803d-a692-4257-be52-fd68052d7515",
   "metadata": {
    "tags": []
   },
   "outputs": [],
   "source": [
    "not_silos_images = img2np(f'{path_img_classified}not_silos/', not_silos_imgs)"
   ]
  },
  {
   "cell_type": "code",
   "execution_count": 19,
   "id": "98a03481-bae0-4ecb-a2a1-c817cf91eacf",
   "metadata": {},
   "outputs": [
    {
     "data": {
      "text/plain": [
       "True"
      ]
     },
     "execution_count": 19,
     "metadata": {},
     "output_type": "execute_result"
    }
   ],
   "source": [
    "(silos_images_2 == silos_images).all()"
   ]
  },
  {
   "cell_type": "code",
   "execution_count": null,
   "id": "eeaaceb9-849b-4ac7-b108-b5445a14e4e6",
   "metadata": {},
   "outputs": [
    {
     "name": "stdout",
     "output_type": "stream",
     "text": [
      "Found 2998 files belonging to 2 classes.\n",
      "Using 2399 files for training.\n"
     ]
    },
    {
     "name": "stderr",
     "output_type": "stream",
     "text": [
      "2023-01-05 19:35:05.623433: I tensorflow/core/platform/cpu_feature_guard.cc:193] This TensorFlow binary is optimized with oneAPI Deep Neural Network Library (oneDNN) to use the following CPU instructions in performance-critical operations:  AVX2 FMA\n",
      "To enable them in other operations, rebuild TensorFlow with the appropriate compiler flags.\n"
     ]
    },
    {
     "name": "stdout",
     "output_type": "stream",
     "text": [
      "Found 2998 files belonging to 2 classes.\n",
      "Using 599 files for validation.\n"
     ]
    }
   ],
   "source": [
    "image_size = (256, 256)\n",
    "batch_size = 128\n",
    "\n",
    "train_ds = tf.keras.preprocessing.image_dataset_from_directory(\n",
    "    path_img_classified,\n",
    "    validation_split=0.2,\n",
    "    subset=\"training\",\n",
    "    seed=1337,\n",
    "    image_size=image_size,\n",
    "    batch_size=batch_size,\n",
    ")\n",
    "val_ds = tf.keras.preprocessing.image_dataset_from_directory(\n",
    "    path_img_classified,\n",
    "    validation_split=0.2,\n",
    "    subset=\"validation\",\n",
    "    seed=1337,\n",
    "    image_size=image_size,\n",
    "    batch_size=batch_size,\n",
    ")"
   ]
  },
  {
   "cell_type": "code",
   "execution_count": 21,
   "id": "f1de9474-deae-48e6-b4c0-70ae7aeee49c",
   "metadata": {},
   "outputs": [],
   "source": [
    "BATCH_SIZE = 32 # Big enough to measure an F1-score\n",
    "AUTOTUNE = tf.data.experimental.AUTOTUNE # Adapt preprocessing and prefetching dynamically\n",
    "SHUFFLE_BUFFER_SIZE = 1024 # Shuffle the training data by a chunck of 1024 observations\n",
    "CHANNELS = 3\n",
    "IMG_SIZE = 256"
   ]
  },
  {
   "cell_type": "code",
   "execution_count": 22,
   "id": "9b4746be-e73b-442b-99c7-d7fb7a98fa0a",
   "metadata": {},
   "outputs": [],
   "source": [
    "from tensorflow.keras.utils import img_to_array, array_to_img\n",
    "def crop_add(im):\n",
    "    array = img_to_array(im)\n",
    "    if tf.random.uniform(()) > 0.5:\n",
    "        array_bottom = array[:128,:,:].copy()\n",
    "        array[:128,:,:] = array[128:,:,:]\n",
    "        array[128:,:,:] = array_bottom\n",
    "    im_crop = array_to_img(array)\n",
    "    return im_crop\n"
   ]
  },
  {
   "cell_type": "code",
   "execution_count": 23,
   "id": "e0ac1676-aa82-4719-ab94-e0d41b5c6781",
   "metadata": {},
   "outputs": [],
   "source": [
    "def parse_function_train(filename, label, seed=(1, 2)):\n",
    "    \"\"\"Function that returns a tuple of normalized image array and labels array.\n",
    "    Args:\n",
    "        filename: string representing path to image\n",
    "        label: 0/1 one-dimensional array of size N_LABELS\n",
    "    \"\"\"\n",
    "    # Read an image from a file\n",
    "    image_string = tf.io.read_file(filename)\n",
    "    # Decode it into a dense vector\n",
    "    image_decoded = tf.image.decode_jpeg(image_string, channels=CHANNELS)\n",
    "    # Resize it to fixed shape\n",
    "    image_resized = tf.image.resize(image_decoded, [IMG_SIZE, IMG_SIZE])\n",
    "    # Normalize it from [0, 255] to [0.0, 1.0]\n",
    "    image_normalized = image_resized / 255.0\n",
    "    \n",
    "    # Random brightness.\n",
    "    #image_augmented1 = tf.image.stateless_random_brightness(\n",
    "    #    image_normalized, max_delta=0.2, seed=seed)\n",
    "    # image_augmented = tf.image.stateless_random_contrast(\n",
    "    #     image_augmented, lower=0.4, upper=0.6, seed=seed)\n",
    "    # image_augmented = tf.image.stateless_random_saturation(\n",
    "    #     image_augmented, lower=0.4, upper=0.6, seed=seed)\n",
    "    # image_augmented = tf.image.stateless_random_jpeg_quality(\n",
    "    #     image_augmented, min_jpeg_quality=75, max_jpeg_quality=100, seed=seed)\n",
    "    #image_augmented2 = tf.image.stateless_random_flip_left_right(image_normalized, seed=seed)\n",
    "    #image_augmented3 = tf.image.stateless_random_flip_up_down(image_normalized, seed)\n",
    "    \n",
    "    data_augmentation = tf.keras.Sequential([\n",
    "      layers.RandomFlip(mode=\"horizontal_and_vertical\", seed=seed),\n",
    "      layers.RandomRotation(factor=0.2, seed=seed)])\n",
    "    \n",
    "    image_augmented1 = data_augmentation(image_normalized)\n",
    "    image_augmented2 = data_augmentation(image_normalized)\n",
    "    image_augmented3 = data_augmentation(image_normalized)\n",
    "    image_augmented4 = data_augmentation(image_normalized)\n",
    "\n",
    "    \n",
    "    return [(image_normalized, label), \n",
    "            (image_augmented1, label), \n",
    "            (image_augmented2, label), \n",
    "            (image_augmented3, label), \n",
    "            (image_augmented4, label)]"
   ]
  },
  {
   "cell_type": "code",
   "execution_count": 24,
   "id": "ec853111-70df-4508-9c4d-eff66cf0d358",
   "metadata": {},
   "outputs": [],
   "source": [
    "def parse_function(filename, label, seed=(1, 2)):\n",
    "    \"\"\"\n",
    "    Function that returns a tuple of normalized image array and labels array.\n",
    "    This parse function doesn't shuffle nor does data augmentation. \n",
    "    It is thus meant for the validation dataset.\n",
    "    Args:\n",
    "        filename: string representing path to image\n",
    "        label: 0/1 one-dimensional array of size N_LABELS\n",
    "    \"\"\"\n",
    "    # Read an image from a file\n",
    "    image_string = tf.io.read_file(filename)\n",
    "    # Decode it into a dense vector\n",
    "    image_decoded = tf.image.decode_jpeg(image_string, channels=CHANNELS)\n",
    "    # Resize it to fixed shape\n",
    "    image_resized = tf.image.resize(image_decoded, [IMG_SIZE, IMG_SIZE])\n",
    "    # Normalize it from [0, 255] to [0.0, 1.0]\n",
    "    image_normalized = image_resized / 255.0\n",
    "    \n",
    "    return image_normalized, label"
   ]
  },
  {
   "cell_type": "code",
   "execution_count": 25,
   "id": "bf4cb715-0216-4dae-92b9-f76503154b5e",
   "metadata": {},
   "outputs": [],
   "source": [
    "def create_dataset(filenames, labels, is_training=True):\n",
    "    \"\"\"\n",
    "    Load and parse dataset.\n",
    "    Args:\n",
    "        filenames: list of image paths\n",
    "        labels: numpy array of shape (BATCH_SIZE, N_LABELS)\n",
    "        is_training: boolean to indicate training mode\n",
    "    \"\"\"\n",
    "    # Create a first dataset of file paths and labels\n",
    "    dataset = tf.data.Dataset.from_tensor_slices((filenames, labels))\n",
    "\n",
    "    if is_training == True:\n",
    "        # Parse and preprocess observations in parallel\n",
    "        dataset = dataset.map(parse_function_train, num_parallel_calls=AUTOTUNE)\n",
    "\n",
    "        names = []\n",
    "        labels = []\n",
    "        for group_image in dataset:\n",
    "            for element in group_image: \n",
    "                names += [element[0]]\n",
    "                labels += [element[1]]\n",
    "        dataset = tf.data.Dataset.from_tensor_slices((names, labels))\n",
    "        \n",
    "        # This is a small dataset, only load it once, and keep it in memory.\n",
    "        dataset = dataset.cache()\n",
    "        # Shuffle the data each buffer size\n",
    "        dataset = dataset.shuffle(buffer_size=len(list(dataset)))\n",
    "    else:\n",
    "        # Parse and preprocess observations in parallel\n",
    "        dataset = dataset.map(parse_function, num_parallel_calls=AUTOTUNE)\n",
    "        \n",
    "        # This is a small dataset, only load it once, and keep it in memory.\n",
    "        dataset = dataset.cache()\n",
    "        \n",
    "    # Batch the data for multiple steps\n",
    "    dataset = dataset.batch(BATCH_SIZE)\n",
    "    # Fetch batches in the background while the model is training.\n",
    "    dataset = dataset.prefetch(buffer_size=AUTOTUNE)\n",
    "    \n",
    "    return dataset"
   ]
  },
  {
   "cell_type": "code",
   "execution_count": 26,
   "id": "e4a0b59d-f734-4e51-b88b-194f50bdac56",
   "metadata": {},
   "outputs": [],
   "source": [
    "X_train = data_info[data_info['split'] == 'train'].filename.values\n",
    "y_train = data_info[data_info['split'] == 'train']['class'].values\n",
    "\n",
    "X_val = data_info[data_info['split'] == 'validation'].filename.values\n",
    "y_val = data_info[data_info['split'] == 'validation']['class'].values"
   ]
  },
  {
   "cell_type": "code",
   "execution_count": 27,
   "id": "6c8a2b4d-79a4-4cef-827d-d9aec58df723",
   "metadata": {},
   "outputs": [],
   "source": [
    "X_train = [os.path.join(path_img, str(f)) for f in X_train]\n",
    "X_val = [os.path.join(path_img, str(f)) for f in X_val]"
   ]
  },
  {
   "cell_type": "code",
   "execution_count": 28,
   "id": "6aac5f4c-63d9-48af-bab5-81f368a4b385",
   "metadata": {},
   "outputs": [
    {
     "data": {
      "text/html": [
       "<div>\n",
       "<style scoped>\n",
       "    .dataframe tbody tr th:only-of-type {\n",
       "        vertical-align: middle;\n",
       "    }\n",
       "\n",
       "    .dataframe tbody tr th {\n",
       "        vertical-align: top;\n",
       "    }\n",
       "\n",
       "    .dataframe thead th {\n",
       "        text-align: right;\n",
       "    }\n",
       "</style>\n",
       "<table border=\"1\" class=\"dataframe\">\n",
       "  <thead>\n",
       "    <tr style=\"text-align: right;\">\n",
       "      <th></th>\n",
       "      <th>0</th>\n",
       "    </tr>\n",
       "  </thead>\n",
       "  <tbody>\n",
       "    <tr>\n",
       "      <th>0</th>\n",
       "      <td>../data/images/silos_256-0-0--6-15--1195-31353...</td>\n",
       "    </tr>\n",
       "    <tr>\n",
       "      <th>1</th>\n",
       "      <td>../data/images/silos_256-0-0--6-15-283-30628.png</td>\n",
       "    </tr>\n",
       "    <tr>\n",
       "      <th>2</th>\n",
       "      <td>../data/images/silos_256-0-0--6-15--404-30011.png</td>\n",
       "    </tr>\n",
       "  </tbody>\n",
       "</table>\n",
       "</div>"
      ],
      "text/plain": [
       "                                                   0\n",
       "0  ../data/images/silos_256-0-0--6-15--1195-31353...\n",
       "1   ../data/images/silos_256-0-0--6-15-283-30628.png\n",
       "2  ../data/images/silos_256-0-0--6-15--404-30011.png"
      ]
     },
     "execution_count": 28,
     "metadata": {},
     "output_type": "execute_result"
    }
   ],
   "source": [
    "pd.DataFrame(X_train).head(3)"
   ]
  },
  {
   "cell_type": "code",
   "execution_count": 29,
   "id": "ceb570f3-4226-4d55-bf6c-8f40e1f95085",
   "metadata": {},
   "outputs": [
    {
     "name": "stdout",
     "output_type": "stream",
     "text": [
      "26.44\n"
     ]
    }
   ],
   "source": [
    "start = time()\n",
    "train_ds = create_dataset(X_train, y_train, is_training=True)\n",
    "val_ds = create_dataset(X_val, y_val, is_training=False)\n",
    "print(round(time()-start, 2))"
   ]
  },
  {
   "cell_type": "code",
   "execution_count": 30,
   "id": "bddbee8c-6852-4a00-b33e-374ba33defbc",
   "metadata": {},
   "outputs": [
    {
     "name": "stdout",
     "output_type": "stream",
     "text": [
      "Actual length: 6995.\n"
     ]
    }
   ],
   "source": [
    "number_of_train_images = len(y_train)*5\n",
    "print(f\"Actual length: {number_of_train_images}.\")"
   ]
  },
  {
   "cell_type": "code",
   "execution_count": 31,
   "id": "f5d45098-4470-40e1-bc34-9a3eeb8711c4",
   "metadata": {},
   "outputs": [
    {
     "name": "stdout",
     "output_type": "stream",
     "text": [
      "Actual length between 6976 and 7008 :\n",
      "True\n"
     ]
    }
   ],
   "source": [
    "b = (len(list(train_ds))-1)*32\n",
    "c = len(list(train_ds))*32\n",
    "print(f\"Actual length between {b} and {c} :\")\n",
    "print((number_of_train_images > b) and (number_of_train_images < c))"
   ]
  },
  {
   "cell_type": "code",
   "execution_count": 32,
   "id": "db3dfcfa-4742-41f4-9940-cee6c036e37a",
   "metadata": {
    "scrolled": true,
    "tags": []
   },
   "outputs": [
    {
     "name": "stdout",
     "output_type": "stream",
     "text": [
      "Shape of features array: (32, 256, 256, 3)\n",
      "Shape of labels array: (32,)\n"
     ]
    }
   ],
   "source": [
    "for f, l in train_ds.take(1):\n",
    "    print(\"Shape of features array:\", f.numpy().shape)\n",
    "    print(\"Shape of labels array:\", l.numpy().shape)"
   ]
  },
  {
   "cell_type": "code",
   "execution_count": 33,
   "id": "80c4a584-9622-4dd6-9d7e-be46886c25dd",
   "metadata": {},
   "outputs": [],
   "source": [
    "def make_model(input_shape, num_classes):\n",
    "    inputs = keras.Input(shape=input_shape)\n",
    "\n",
    "    # Entry block\n",
    "    x = layers.Rescaling(1.0 / 255)(inputs)\n",
    "    x = layers.Conv2D(128, 3, strides=2, padding=\"same\")(x)\n",
    "    x = layers.BatchNormalization()(x)\n",
    "    x = layers.Activation(\"relu\")(x)\n",
    "\n",
    "    previous_block_activation = x  # Set aside residual\n",
    "\n",
    "    for size in [256]:#[256, 512, 728]:\n",
    "        # x = layers.Activation(\"relu\")(x)\n",
    "        # x = layers.SeparableConv2D(size, 3, padding=\"same\")(x)\n",
    "        # x = layers.BatchNormalization()(x)\n",
    "\n",
    "        x = layers.Activation(\"relu\")(x)\n",
    "        x = layers.SeparableConv2D(size, 3, padding=\"same\")(x)\n",
    "        x = layers.BatchNormalization()(x)\n",
    "\n",
    "        x = layers.MaxPooling2D(3, strides=2, padding=\"same\")(x)\n",
    "\n",
    "        # Project residual\n",
    "        residual = layers.Conv2D(size, 1, strides=2, padding=\"same\")(\n",
    "            previous_block_activation\n",
    "        )\n",
    "        x = layers.add([x, residual])  # Add back residual\n",
    "        previous_block_activation = x  # Set aside next residual\n",
    "\n",
    "    x = layers.SeparableConv2D(1024, 3, padding=\"same\")(x)\n",
    "    x = layers.BatchNormalization()(x)\n",
    "    x = layers.Activation(\"relu\")(x)\n",
    "\n",
    "    x = layers.GlobalAveragePooling2D()(x)\n",
    "    if num_classes == 2:\n",
    "        activation = \"sigmoid\"\n",
    "        units = 1\n",
    "    else:\n",
    "        activation = \"softmax\"\n",
    "        units = num_classes\n",
    "\n",
    "    x = layers.Dropout(0.5)(x)\n",
    "    outputs = layers.Dense(units, activation=activation)(x)\n",
    "    return keras.Model(inputs, outputs)"
   ]
  },
  {
   "cell_type": "code",
   "execution_count": 34,
   "id": "302b70e3-dfdd-432d-93ad-eac01518de7f",
   "metadata": {},
   "outputs": [],
   "source": [
    "model = make_model(input_shape=(IMG_SIZE, IMG_SIZE, CHANNELS), num_classes=2)\n",
    "#keras.utils.plot_model(model, show_shapes=True)"
   ]
  },
  {
   "cell_type": "code",
   "execution_count": 35,
   "id": "be1bef0d-e579-4e53-be15-f4be9cfd086d",
   "metadata": {},
   "outputs": [],
   "source": [
    "model.compile(\n",
    "    optimizer=keras.optimizers.Adam(1e-3),\n",
    "    loss=\"binary_crossentropy\",\n",
    "    metrics=[\"accuracy\"],\n",
    ")"
   ]
  },
  {
   "cell_type": "code",
   "execution_count": 36,
   "id": "b3f3905c-6166-4cc9-ba48-6e121be2a42b",
   "metadata": {},
   "outputs": [],
   "source": [
    "from tensorflow.keras.optimizers import RMSprop, Adam"
   ]
  },
  {
   "cell_type": "code",
   "execution_count": 37,
   "id": "bf4d6350-a93a-4c3b-910a-930b294117c1",
   "metadata": {},
   "outputs": [],
   "source": [
    "LR = 0.0001\n",
    "# BATCH_SIZE = 128"
   ]
  },
  {
   "cell_type": "code",
   "execution_count": 38,
   "id": "b1159cac-f13e-4d4b-90ad-8944d603ec73",
   "metadata": {},
   "outputs": [],
   "source": [
    "model = tf.keras.models.Sequential([ \n",
    "  \n",
    "    tf.keras.layers.Conv2D(16, (3,3), activation='relu', input_shape=(IMG_SIZE, IMG_SIZE, CHANNELS)),\n",
    "    tf.keras.layers.MaxPooling2D(2,2),\n",
    "    tf.keras.layers.Dropout(0.5),\n",
    "    tf.keras.layers.Conv2D(32, (3,3), activation='relu', kernel_regularizer='l2'),\n",
    "    tf.keras.layers.MaxPooling2D(2,2),\n",
    "    tf.keras.layers.Dropout(0.5),\n",
    "    tf.keras.layers.Conv2D(64, (3,3), activation='relu', kernel_regularizer='l2'),\n",
    "    tf.keras.layers.MaxPooling2D(2,2),\n",
    "    tf.keras.layers.Dropout(0.5),\n",
    "    tf.keras.layers.Flatten(),     \n",
    "    tf.keras.layers.Dense(512, activation='relu', kernel_regularizer='l2'),\n",
    "    tf.keras.layers.Dropout(0.5),\n",
    "    tf.keras.layers.BatchNormalization(),\n",
    "    tf.keras.layers.Dense(1, activation='sigmoid')])\n",
    "\n",
    "model.compile(optimizer=RMSprop(learning_rate=LR), loss='binary_crossentropy', metrics=[tf.keras.metrics.AUC(), \"accuracy\"])\n"
   ]
  },
  {
   "cell_type": "code",
   "execution_count": 39,
   "id": "d4d48441-5888-4cde-9ea9-982811afcb8c",
   "metadata": {
    "scrolled": true,
    "tags": []
   },
   "outputs": [
    {
     "name": "stdout",
     "output_type": "stream",
     "text": [
      "Model: \"sequential\"\n",
      "_________________________________________________________________\n",
      " Layer (type)                Output Shape              Param #   \n",
      "=================================================================\n",
      " conv2d_2 (Conv2D)           (None, 254, 254, 16)      448       \n",
      "                                                                 \n",
      " max_pooling2d_1 (MaxPooling  (None, 127, 127, 16)     0         \n",
      " 2D)                                                             \n",
      "                                                                 \n",
      " dropout_1 (Dropout)         (None, 127, 127, 16)      0         \n",
      "                                                                 \n",
      " conv2d_3 (Conv2D)           (None, 125, 125, 32)      4640      \n",
      "                                                                 \n",
      " max_pooling2d_2 (MaxPooling  (None, 62, 62, 32)       0         \n",
      " 2D)                                                             \n",
      "                                                                 \n",
      " dropout_2 (Dropout)         (None, 62, 62, 32)        0         \n",
      "                                                                 \n",
      " conv2d_4 (Conv2D)           (None, 60, 60, 64)        18496     \n",
      "                                                                 \n",
      " max_pooling2d_3 (MaxPooling  (None, 30, 30, 64)       0         \n",
      " 2D)                                                             \n",
      "                                                                 \n",
      " dropout_3 (Dropout)         (None, 30, 30, 64)        0         \n",
      "                                                                 \n",
      " flatten (Flatten)           (None, 57600)             0         \n",
      "                                                                 \n",
      " dense_1 (Dense)             (None, 512)               29491712  \n",
      "                                                                 \n",
      " dropout_4 (Dropout)         (None, 512)               0         \n",
      "                                                                 \n",
      " batch_normalization_3 (Batc  (None, 512)              2048      \n",
      " hNormalization)                                                 \n",
      "                                                                 \n",
      " dense_2 (Dense)             (None, 1)                 513       \n",
      "                                                                 \n",
      "=================================================================\n",
      "Total params: 29,517,857\n",
      "Trainable params: 29,516,833\n",
      "Non-trainable params: 1,024\n",
      "_________________________________________________________________\n"
     ]
    }
   ],
   "source": [
    "model.summary()"
   ]
  },
  {
   "cell_type": "code",
   "execution_count": 40,
   "id": "d6ab2990-333d-41e2-afb0-376edcd27bbc",
   "metadata": {},
   "outputs": [],
   "source": [
    "EPOCHS = 100"
   ]
  },
  {
   "cell_type": "code",
   "execution_count": 41,
   "id": "ea2a7de2-177c-4177-a69f-5bf8fc9870d8",
   "metadata": {
    "scrolled": true,
    "tags": []
   },
   "outputs": [
    {
     "name": "stdout",
     "output_type": "stream",
     "text": [
      "Epoch 1/100\n",
      "219/219 [==============================] - 155s 699ms/step - loss: 6.7943 - auc: 0.5929 - accuracy: 0.5674 - val_loss: 3.7215 - val_auc: 0.7129 - val_accuracy: 0.5150\n",
      "Epoch 2/100\n",
      "219/219 [==============================] - 146s 668ms/step - loss: 2.4151 - auc: 0.6148 - accuracy: 0.5821 - val_loss: 2.0737 - val_auc: 0.7178 - val_accuracy: 0.5150\n",
      "Epoch 3/100\n",
      "219/219 [==============================] - 146s 667ms/step - loss: 1.4847 - auc: 0.6340 - accuracy: 0.5993 - val_loss: 1.6184 - val_auc: 0.7272 - val_accuracy: 0.5150\n",
      "Epoch 4/100\n",
      "219/219 [==============================] - 146s 666ms/step - loss: 1.1962 - auc: 0.6521 - accuracy: 0.6097 - val_loss: 1.3353 - val_auc: 0.6867 - val_accuracy: 0.5150\n",
      "Epoch 5/100\n",
      "219/219 [==============================] - 145s 660ms/step - loss: 1.0738 - auc: 0.6577 - accuracy: 0.6273 - val_loss: 1.0707 - val_auc: 0.3661 - val_accuracy: 0.5150\n",
      "Epoch 6/100\n",
      "219/219 [==============================] - 150s 683ms/step - loss: 0.9654 - auc: 0.7055 - accuracy: 0.6543 - val_loss: 0.9948 - val_auc: 0.4717 - val_accuracy: 0.4400\n",
      "Epoch 7/100\n",
      "219/219 [==============================] - 148s 677ms/step - loss: 0.8955 - auc: 0.7414 - accuracy: 0.6842 - val_loss: 0.9250 - val_auc: 0.7620 - val_accuracy: 0.6625\n",
      "Epoch 8/100\n",
      "219/219 [==============================] - 148s 673ms/step - loss: 0.8337 - auc: 0.7694 - accuracy: 0.7074 - val_loss: 0.8501 - val_auc: 0.7903 - val_accuracy: 0.7225\n",
      "Epoch 9/100\n",
      "219/219 [==============================] - 148s 676ms/step - loss: 0.7623 - auc: 0.8045 - accuracy: 0.7348 - val_loss: 0.7980 - val_auc: 0.8338 - val_accuracy: 0.7025\n",
      "Epoch 10/100\n",
      "219/219 [==============================] - 147s 671ms/step - loss: 0.6701 - auc: 0.8585 - accuracy: 0.7823 - val_loss: 0.6964 - val_auc: 0.8608 - val_accuracy: 0.7675\n",
      "Epoch 11/100\n",
      "219/219 [==============================] - 147s 673ms/step - loss: 0.6138 - auc: 0.8833 - accuracy: 0.8063 - val_loss: 0.6295 - val_auc: 0.8769 - val_accuracy: 0.7925\n",
      "Epoch 12/100\n",
      "219/219 [==============================] - 147s 670ms/step - loss: 0.5809 - auc: 0.8956 - accuracy: 0.8143 - val_loss: 0.6263 - val_auc: 0.9104 - val_accuracy: 0.7800\n",
      "Epoch 13/100\n",
      "219/219 [==============================] - 147s 671ms/step - loss: 0.5670 - auc: 0.8998 - accuracy: 0.8223 - val_loss: 0.5842 - val_auc: 0.9169 - val_accuracy: 0.8450\n",
      "Epoch 14/100\n",
      "219/219 [==============================] - 149s 680ms/step - loss: 0.5572 - auc: 0.9033 - accuracy: 0.8296 - val_loss: 0.6083 - val_auc: 0.9126 - val_accuracy: 0.7850\n",
      "Epoch 15/100\n",
      "219/219 [==============================] - 147s 671ms/step - loss: 0.5403 - auc: 0.9116 - accuracy: 0.8333 - val_loss: 0.5541 - val_auc: 0.9315 - val_accuracy: 0.8225\n",
      "Epoch 16/100\n",
      "219/219 [==============================] - 148s 674ms/step - loss: 0.5371 - auc: 0.9112 - accuracy: 0.8352 - val_loss: 0.5333 - val_auc: 0.9275 - val_accuracy: 0.8500\n",
      "Epoch 17/100\n",
      "219/219 [==============================] - 147s 672ms/step - loss: 0.5274 - auc: 0.9149 - accuracy: 0.8383 - val_loss: 0.5530 - val_auc: 0.9127 - val_accuracy: 0.8400\n",
      "Epoch 18/100\n",
      "219/219 [==============================] - 147s 673ms/step - loss: 0.5186 - auc: 0.9183 - accuracy: 0.8440 - val_loss: 0.5326 - val_auc: 0.9178 - val_accuracy: 0.8400\n",
      "Epoch 19/100\n",
      "219/219 [==============================] - 147s 671ms/step - loss: 0.5192 - auc: 0.9171 - accuracy: 0.8377 - val_loss: 0.5393 - val_auc: 0.9371 - val_accuracy: 0.8150\n",
      "Epoch 20/100\n",
      "219/219 [==============================] - 150s 684ms/step - loss: 0.5057 - auc: 0.9222 - accuracy: 0.8489 - val_loss: 0.5131 - val_auc: 0.9368 - val_accuracy: 0.8375\n",
      "Epoch 21/100\n",
      "219/219 [==============================] - 148s 675ms/step - loss: 0.5060 - auc: 0.9226 - accuracy: 0.8467 - val_loss: 0.4814 - val_auc: 0.9515 - val_accuracy: 0.8600\n",
      "Epoch 22/100\n",
      "219/219 [==============================] - 148s 675ms/step - loss: 0.5042 - auc: 0.9231 - accuracy: 0.8515 - val_loss: 0.5135 - val_auc: 0.9336 - val_accuracy: 0.8525\n",
      "Epoch 23/100\n",
      "219/219 [==============================] - 148s 674ms/step - loss: 0.5012 - auc: 0.9243 - accuracy: 0.8496 - val_loss: 0.4856 - val_auc: 0.9472 - val_accuracy: 0.8700\n",
      "Epoch 24/100\n",
      "219/219 [==============================] - 148s 677ms/step - loss: 0.5016 - auc: 0.9234 - accuracy: 0.8496 - val_loss: 0.4769 - val_auc: 0.9483 - val_accuracy: 0.8750\n",
      "Epoch 25/100\n",
      "219/219 [==============================] - 147s 671ms/step - loss: 0.4885 - auc: 0.9293 - accuracy: 0.8535 - val_loss: 0.4936 - val_auc: 0.9513 - val_accuracy: 0.8775\n",
      "Epoch 26/100\n",
      "219/219 [==============================] - 147s 671ms/step - loss: 0.4926 - auc: 0.9259 - accuracy: 0.8522 - val_loss: 0.4558 - val_auc: 0.9473 - val_accuracy: 0.8875\n",
      "Epoch 27/100\n",
      "219/219 [==============================] - 147s 672ms/step - loss: 0.4805 - auc: 0.9300 - accuracy: 0.8639 - val_loss: 0.4914 - val_auc: 0.9499 - val_accuracy: 0.8750\n",
      "Epoch 28/100\n",
      "219/219 [==============================] - 147s 672ms/step - loss: 0.4802 - auc: 0.9304 - accuracy: 0.8602 - val_loss: 0.5112 - val_auc: 0.9412 - val_accuracy: 0.8625\n",
      "Epoch 29/100\n",
      "219/219 [==============================] - 153s 698ms/step - loss: 0.4742 - auc: 0.9325 - accuracy: 0.8583 - val_loss: 0.4788 - val_auc: 0.9502 - val_accuracy: 0.8700\n",
      "Epoch 30/100\n",
      "219/219 [==============================] - 154s 703ms/step - loss: 0.4707 - auc: 0.9338 - accuracy: 0.8578 - val_loss: 0.5357 - val_auc: 0.9405 - val_accuracy: 0.8350\n",
      "Epoch 31/100\n",
      "219/219 [==============================] - 150s 683ms/step - loss: 0.4722 - auc: 0.9324 - accuracy: 0.8593 - val_loss: 0.4609 - val_auc: 0.9455 - val_accuracy: 0.8875\n",
      "Epoch 32/100\n",
      "219/219 [==============================] - 149s 680ms/step - loss: 0.4669 - auc: 0.9349 - accuracy: 0.8619 - val_loss: 0.4708 - val_auc: 0.9370 - val_accuracy: 0.8725\n",
      "Epoch 33/100\n",
      "219/219 [==============================] - 148s 673ms/step - loss: 0.4655 - auc: 0.9349 - accuracy: 0.8606 - val_loss: 0.5890 - val_auc: 0.9140 - val_accuracy: 0.7900\n",
      "Epoch 34/100\n",
      "219/219 [==============================] - 146s 668ms/step - loss: 0.4662 - auc: 0.9334 - accuracy: 0.8620 - val_loss: 0.5153 - val_auc: 0.9188 - val_accuracy: 0.8500\n",
      "Epoch 35/100\n",
      "219/219 [==============================] - 147s 673ms/step - loss: 0.4633 - auc: 0.9353 - accuracy: 0.8589 - val_loss: 0.4791 - val_auc: 0.9352 - val_accuracy: 0.8550\n",
      "Epoch 36/100\n",
      "219/219 [==============================] - 150s 683ms/step - loss: 0.4652 - auc: 0.9335 - accuracy: 0.8598 - val_loss: 0.4524 - val_auc: 0.9501 - val_accuracy: 0.8950\n",
      "Epoch 37/100\n",
      "219/219 [==============================] - 160s 729ms/step - loss: 0.4525 - auc: 0.9376 - accuracy: 0.8679 - val_loss: 0.4402 - val_auc: 0.9505 - val_accuracy: 0.8775\n",
      "Epoch 38/100\n",
      "219/219 [==============================] - 165s 752ms/step - loss: 0.4486 - auc: 0.9386 - accuracy: 0.8692 - val_loss: 0.5514 - val_auc: 0.9172 - val_accuracy: 0.8250\n",
      "Epoch 39/100\n",
      "219/219 [==============================] - 171s 782ms/step - loss: 0.4506 - auc: 0.9387 - accuracy: 0.8690 - val_loss: 0.5095 - val_auc: 0.9313 - val_accuracy: 0.8500\n",
      "Epoch 40/100\n",
      "219/219 [==============================] - 163s 742ms/step - loss: 0.4459 - auc: 0.9396 - accuracy: 0.8728 - val_loss: 0.4915 - val_auc: 0.9221 - val_accuracy: 0.8575\n",
      "Epoch 41/100\n",
      "219/219 [==============================] - 170s 774ms/step - loss: 0.4514 - auc: 0.9379 - accuracy: 0.8663 - val_loss: 0.4248 - val_auc: 0.9496 - val_accuracy: 0.8825\n",
      "Epoch 42/100\n",
      "219/219 [==============================] - 173s 788ms/step - loss: 0.4502 - auc: 0.9376 - accuracy: 0.8632 - val_loss: 0.4536 - val_auc: 0.9383 - val_accuracy: 0.8550\n",
      "Epoch 43/100\n",
      "219/219 [==============================] - 180s 823ms/step - loss: 0.4461 - auc: 0.9387 - accuracy: 0.8660 - val_loss: 0.6175 - val_auc: 0.8706 - val_accuracy: 0.8100\n",
      "Epoch 44/100\n",
      "219/219 [==============================] - 177s 808ms/step - loss: 0.4448 - auc: 0.9397 - accuracy: 0.8670 - val_loss: 0.4384 - val_auc: 0.9547 - val_accuracy: 0.8975\n",
      "Epoch 45/100\n",
      "219/219 [==============================] - 176s 804ms/step - loss: 0.4443 - auc: 0.9389 - accuracy: 0.8682 - val_loss: 0.4453 - val_auc: 0.9409 - val_accuracy: 0.8700\n",
      "Epoch 46/100\n",
      "219/219 [==============================] - 185s 845ms/step - loss: 0.4370 - auc: 0.9418 - accuracy: 0.8723 - val_loss: 0.4513 - val_auc: 0.9363 - val_accuracy: 0.8650\n",
      "Epoch 47/100\n",
      "219/219 [==============================] - 173s 786ms/step - loss: 0.4438 - auc: 0.9388 - accuracy: 0.8690 - val_loss: 0.4875 - val_auc: 0.9245 - val_accuracy: 0.8425\n",
      "Epoch 48/100\n",
      "219/219 [==============================] - 178s 813ms/step - loss: 0.4413 - auc: 0.9393 - accuracy: 0.8721 - val_loss: 0.4858 - val_auc: 0.9233 - val_accuracy: 0.8550\n",
      "Epoch 49/100\n",
      "219/219 [==============================] - 182s 832ms/step - loss: 0.4326 - auc: 0.9431 - accuracy: 0.8712 - val_loss: 0.4329 - val_auc: 0.9459 - val_accuracy: 0.8650\n",
      "Epoch 50/100\n",
      "219/219 [==============================] - 165s 756ms/step - loss: 0.4320 - auc: 0.9432 - accuracy: 0.8718 - val_loss: 0.4584 - val_auc: 0.9361 - val_accuracy: 0.8725\n",
      "Epoch 51/100\n",
      "219/219 [==============================] - 175s 799ms/step - loss: 0.4292 - auc: 0.9431 - accuracy: 0.8709 - val_loss: 0.4521 - val_auc: 0.9348 - val_accuracy: 0.8625\n",
      "Epoch 52/100\n",
      "219/219 [==============================] - 175s 797ms/step - loss: 0.4307 - auc: 0.9424 - accuracy: 0.8732 - val_loss: 0.4918 - val_auc: 0.9279 - val_accuracy: 0.8475\n",
      "Epoch 53/100\n",
      "219/219 [==============================] - 172s 787ms/step - loss: 0.4292 - auc: 0.9426 - accuracy: 0.8682 - val_loss: 0.5241 - val_auc: 0.9089 - val_accuracy: 0.8600\n",
      "Epoch 54/100\n",
      "219/219 [==============================] - 180s 821ms/step - loss: 0.4344 - auc: 0.9411 - accuracy: 0.8711 - val_loss: 0.4296 - val_auc: 0.9458 - val_accuracy: 0.8800\n",
      "Epoch 55/100\n",
      "219/219 [==============================] - 178s 814ms/step - loss: 0.4279 - auc: 0.9432 - accuracy: 0.8712 - val_loss: 0.4362 - val_auc: 0.9396 - val_accuracy: 0.8625\n",
      "Epoch 56/100\n",
      "219/219 [==============================] - 158s 719ms/step - loss: 0.4209 - auc: 0.9457 - accuracy: 0.8735 - val_loss: 0.4622 - val_auc: 0.9306 - val_accuracy: 0.8675\n",
      "Epoch 57/100\n",
      "219/219 [==============================] - 161s 736ms/step - loss: 0.4230 - auc: 0.9443 - accuracy: 0.8739 - val_loss: 0.4767 - val_auc: 0.9465 - val_accuracy: 0.8500\n",
      "Epoch 58/100\n",
      "219/219 [==============================] - 159s 724ms/step - loss: 0.4266 - auc: 0.9426 - accuracy: 0.8715 - val_loss: 0.4784 - val_auc: 0.9244 - val_accuracy: 0.8525\n",
      "Epoch 59/100\n",
      "219/219 [==============================] - 163s 746ms/step - loss: 0.4284 - auc: 0.9412 - accuracy: 0.8715 - val_loss: 0.4653 - val_auc: 0.9279 - val_accuracy: 0.8575\n",
      "Epoch 60/100\n",
      "219/219 [==============================] - 164s 750ms/step - loss: 0.4210 - auc: 0.9443 - accuracy: 0.8701 - val_loss: 0.4573 - val_auc: 0.9390 - val_accuracy: 0.8700\n",
      "Epoch 61/100\n",
      "219/219 [==============================] - 157s 718ms/step - loss: 0.4238 - auc: 0.9432 - accuracy: 0.8705 - val_loss: 0.4249 - val_auc: 0.9559 - val_accuracy: 0.8925\n",
      "Epoch 62/100\n",
      "219/219 [==============================] - 158s 723ms/step - loss: 0.4247 - auc: 0.9426 - accuracy: 0.8728 - val_loss: 0.4680 - val_auc: 0.9490 - val_accuracy: 0.8575\n",
      "Epoch 63/100\n",
      "219/219 [==============================] - 164s 747ms/step - loss: 0.4136 - auc: 0.9465 - accuracy: 0.8788 - val_loss: 0.4350 - val_auc: 0.9414 - val_accuracy: 0.8700\n",
      "Epoch 64/100\n",
      "219/219 [==============================] - 165s 755ms/step - loss: 0.4210 - auc: 0.9437 - accuracy: 0.8758 - val_loss: 0.5191 - val_auc: 0.9112 - val_accuracy: 0.8450\n",
      "Epoch 65/100\n",
      "219/219 [==============================] - 159s 724ms/step - loss: 0.4127 - auc: 0.9459 - accuracy: 0.8775 - val_loss: 0.4506 - val_auc: 0.9458 - val_accuracy: 0.8600\n",
      "Epoch 66/100\n",
      "219/219 [==============================] - 158s 719ms/step - loss: 0.4188 - auc: 0.9447 - accuracy: 0.8779 - val_loss: 0.4224 - val_auc: 0.9475 - val_accuracy: 0.8825\n",
      "Epoch 67/100\n",
      "219/219 [==============================] - 144s 656ms/step - loss: 0.4093 - auc: 0.9477 - accuracy: 0.8813 - val_loss: 0.4599 - val_auc: 0.9317 - val_accuracy: 0.8500\n",
      "Epoch 68/100\n",
      "219/219 [==============================] - 143s 655ms/step - loss: 0.4138 - auc: 0.9452 - accuracy: 0.8788 - val_loss: 0.4265 - val_auc: 0.9422 - val_accuracy: 0.8675\n",
      "Epoch 69/100\n",
      "219/219 [==============================] - 143s 655ms/step - loss: 0.4075 - auc: 0.9476 - accuracy: 0.8792 - val_loss: 0.4643 - val_auc: 0.9302 - val_accuracy: 0.8600\n",
      "Epoch 70/100\n",
      "219/219 [==============================] - 143s 655ms/step - loss: 0.4140 - auc: 0.9446 - accuracy: 0.8758 - val_loss: 0.4335 - val_auc: 0.9352 - val_accuracy: 0.8750\n",
      "Epoch 71/100\n",
      "219/219 [==============================] - 159s 725ms/step - loss: 0.4131 - auc: 0.9454 - accuracy: 0.8758 - val_loss: 0.5045 - val_auc: 0.9154 - val_accuracy: 0.8350\n",
      "Epoch 72/100\n",
      "219/219 [==============================] - 159s 726ms/step - loss: 0.4093 - auc: 0.9465 - accuracy: 0.8789 - val_loss: 0.5294 - val_auc: 0.9280 - val_accuracy: 0.8200\n",
      "Epoch 73/100\n",
      "219/219 [==============================] - 159s 725ms/step - loss: 0.4145 - auc: 0.9452 - accuracy: 0.8719 - val_loss: 0.4109 - val_auc: 0.9467 - val_accuracy: 0.8875\n",
      "Epoch 74/100\n",
      "219/219 [==============================] - 159s 725ms/step - loss: 0.4108 - auc: 0.9467 - accuracy: 0.8779 - val_loss: 0.4450 - val_auc: 0.9331 - val_accuracy: 0.8625\n",
      "Epoch 75/100\n",
      "219/219 [==============================] - 158s 722ms/step - loss: 0.4106 - auc: 0.9457 - accuracy: 0.8792 - val_loss: 0.4203 - val_auc: 0.9460 - val_accuracy: 0.8725\n",
      "Epoch 76/100\n",
      "219/219 [==============================] - 157s 719ms/step - loss: 0.4055 - auc: 0.9478 - accuracy: 0.8828 - val_loss: 0.4143 - val_auc: 0.9475 - val_accuracy: 0.8775\n",
      "Epoch 77/100\n",
      "219/219 [==============================] - 158s 721ms/step - loss: 0.4099 - auc: 0.9460 - accuracy: 0.8768 - val_loss: 0.4482 - val_auc: 0.9442 - val_accuracy: 0.8750\n",
      "Epoch 78/100\n",
      "219/219 [==============================] - 158s 720ms/step - loss: 0.3992 - auc: 0.9493 - accuracy: 0.8855 - val_loss: 0.4901 - val_auc: 0.9345 - val_accuracy: 0.8250\n",
      "Epoch 79/100\n",
      "219/219 [==============================] - 160s 732ms/step - loss: 0.4016 - auc: 0.9480 - accuracy: 0.8826 - val_loss: 0.4427 - val_auc: 0.9328 - val_accuracy: 0.8675\n",
      "Epoch 80/100\n",
      "219/219 [==============================] - 159s 727ms/step - loss: 0.4024 - auc: 0.9478 - accuracy: 0.8799 - val_loss: 0.4083 - val_auc: 0.9504 - val_accuracy: 0.8800\n",
      "Epoch 81/100\n",
      "219/219 [==============================] - 162s 738ms/step - loss: 0.4039 - auc: 0.9465 - accuracy: 0.8798 - val_loss: 0.4492 - val_auc: 0.9389 - val_accuracy: 0.8475\n",
      "Epoch 82/100\n",
      "219/219 [==============================] - 161s 737ms/step - loss: 0.3981 - auc: 0.9488 - accuracy: 0.8833 - val_loss: 0.4943 - val_auc: 0.9147 - val_accuracy: 0.8450\n",
      "Epoch 83/100\n",
      "219/219 [==============================] - 156s 713ms/step - loss: 0.3975 - auc: 0.9489 - accuracy: 0.8802 - val_loss: 0.4034 - val_auc: 0.9502 - val_accuracy: 0.8800\n",
      "Epoch 84/100\n",
      "219/219 [==============================] - 156s 713ms/step - loss: 0.3933 - auc: 0.9502 - accuracy: 0.8826 - val_loss: 0.4059 - val_auc: 0.9516 - val_accuracy: 0.8900\n",
      "Epoch 85/100\n",
      "219/219 [==============================] - 162s 738ms/step - loss: 0.4014 - auc: 0.9477 - accuracy: 0.8815 - val_loss: 0.4178 - val_auc: 0.9473 - val_accuracy: 0.8700\n",
      "Epoch 86/100\n",
      "219/219 [==============================] - 157s 716ms/step - loss: 0.3964 - auc: 0.9496 - accuracy: 0.8813 - val_loss: 0.4356 - val_auc: 0.9382 - val_accuracy: 0.8625\n",
      "Epoch 87/100\n",
      "219/219 [==============================] - 156s 714ms/step - loss: 0.3946 - auc: 0.9493 - accuracy: 0.8838 - val_loss: 0.4084 - val_auc: 0.9482 - val_accuracy: 0.8900\n",
      "Epoch 88/100\n",
      "219/219 [==============================] - 168s 766ms/step - loss: 0.4009 - auc: 0.9472 - accuracy: 0.8775 - val_loss: 0.4612 - val_auc: 0.9300 - val_accuracy: 0.8600\n",
      "Epoch 89/100\n",
      "219/219 [==============================] - 161s 735ms/step - loss: 0.3975 - auc: 0.9487 - accuracy: 0.8798 - val_loss: 0.4318 - val_auc: 0.9453 - val_accuracy: 0.8625\n",
      "Epoch 90/100\n",
      "219/219 [==============================] - 156s 713ms/step - loss: 0.3968 - auc: 0.9487 - accuracy: 0.8821 - val_loss: 0.4182 - val_auc: 0.9459 - val_accuracy: 0.8750\n",
      "Epoch 91/100\n",
      "219/219 [==============================] - 156s 712ms/step - loss: 0.3945 - auc: 0.9488 - accuracy: 0.8843 - val_loss: 0.4026 - val_auc: 0.9584 - val_accuracy: 0.8850\n",
      "Epoch 92/100\n",
      "219/219 [==============================] - 157s 715ms/step - loss: 0.3894 - auc: 0.9499 - accuracy: 0.8813 - val_loss: 0.4541 - val_auc: 0.9266 - val_accuracy: 0.8600\n",
      "Epoch 93/100\n",
      "219/219 [==============================] - 160s 731ms/step - loss: 0.3940 - auc: 0.9487 - accuracy: 0.8781 - val_loss: 0.3952 - val_auc: 0.9526 - val_accuracy: 0.8825\n",
      "Epoch 94/100\n",
      "219/219 [==============================] - 158s 722ms/step - loss: 0.3995 - auc: 0.9465 - accuracy: 0.8801 - val_loss: 0.4447 - val_auc: 0.9274 - val_accuracy: 0.8725\n",
      "Epoch 95/100\n",
      "219/219 [==============================] - 157s 717ms/step - loss: 0.3872 - auc: 0.9508 - accuracy: 0.8838 - val_loss: 0.5070 - val_auc: 0.9148 - val_accuracy: 0.8375\n",
      "Epoch 96/100\n",
      "219/219 [==============================] - 159s 728ms/step - loss: 0.3985 - auc: 0.9473 - accuracy: 0.8769 - val_loss: 0.4148 - val_auc: 0.9478 - val_accuracy: 0.8700\n",
      "Epoch 97/100\n",
      "219/219 [==============================] - 162s 741ms/step - loss: 0.3885 - auc: 0.9505 - accuracy: 0.8839 - val_loss: 0.4283 - val_auc: 0.9400 - val_accuracy: 0.8650\n",
      "Epoch 98/100\n",
      "219/219 [==============================] - 159s 724ms/step - loss: 0.3912 - auc: 0.9497 - accuracy: 0.8835 - val_loss: 0.4574 - val_auc: 0.9266 - val_accuracy: 0.8550\n",
      "Epoch 99/100\n",
      "219/219 [==============================] - 159s 727ms/step - loss: 0.3863 - auc: 0.9509 - accuracy: 0.8843 - val_loss: 0.4669 - val_auc: 0.9220 - val_accuracy: 0.8575\n",
      "Epoch 100/100\n",
      "219/219 [==============================] - 160s 732ms/step - loss: 0.3860 - auc: 0.9509 - accuracy: 0.8866 - val_loss: 0.4800 - val_auc: 0.9148 - val_accuracy: 0.8450\n",
      "Training took 15737.68 sec\n"
     ]
    }
   ],
   "source": [
    "start = time()\n",
    "history = model.fit(train_ds,\n",
    "                    epochs=EPOCHS,\n",
    "                    validation_data=val_ds,\n",
    "                    callbacks=[\n",
    "                            tf.keras.callbacks.ModelCheckpoint(\n",
    "                                os.path.join('test_models/', \n",
    "                                             'model_Camille_data_augmented_3/epoch_{epoch:02d}_val_loss_{val_loss:.4f}.h5'),\n",
    "                                monitor='val_auc', save_best_only=True\n",
    "                            )\n",
    "                    ]\n",
    "                   )\n",
    "\n",
    "print(f'Training took {round(time()-start, 2)} sec')"
   ]
  },
  {
   "cell_type": "code",
   "execution_count": 49,
   "id": "861666a4-ba48-4af3-a2c6-22a1b4830193",
   "metadata": {},
   "outputs": [],
   "source": [
    "def learning_curves(history):\n",
    "    \"\"\"\n",
    "    Plot the learning curves of loss and macro f1 score \n",
    "    for the training and validation datasets.\n",
    "    \n",
    "    Args:\n",
    "        history: history callback of fitting a tensorflow keras model \n",
    "    \"\"\"\n",
    "    \n",
    "    loss = history.history['loss']\n",
    "    val_loss = history.history['val_loss']\n",
    "\n",
    "    accuracy = history.history['accuracy']\n",
    "    val_accuracy = history.history['val_accuracy']\n",
    "    \n",
    "    try:\n",
    "        auc = history.history['auc']\n",
    "        val_auc = history.history['val_auc']\n",
    "    except:\n",
    "        pass\n",
    "    try:\n",
    "        auc = history.history['auc_1']\n",
    "        val_auc = history.history['val_auc_1']\n",
    "    except:\n",
    "        pass\n",
    "    try:\n",
    "        auc = history.history['auc_2']\n",
    "        val_auc = history.history['val_auc_2']\n",
    "    except:\n",
    "        pass\n",
    "    try:\n",
    "        auc = history.history['auc_3']\n",
    "        val_auc = history.history['val_auc_3']\n",
    "    except:\n",
    "        pass\n",
    "    \n",
    "        \n",
    "    \n",
    "    epochs = len(loss)\n",
    "\n",
    "    style.use(\"bmh\")\n",
    "    plt.figure(figsize=(8, 8))\n",
    "\n",
    "    plt.subplot(3, 1, 1)\n",
    "    plt.tight_layout(h_pad=2)\n",
    "\n",
    "    plt.plot(range(1, epochs+1), loss, label='Training Loss')\n",
    "    plt.plot(range(1, epochs+1), val_loss, label='Validation Loss')\n",
    "    plt.legend(loc='upper right')\n",
    "    plt.ylabel('Loss')\n",
    "    plt.title('Training and Validation Loss')\n",
    "\n",
    "    plt.subplot(3, 1, 2)\n",
    "    plt.plot(range(1, epochs+1), accuracy, label='Training Accuracy')\n",
    "    plt.plot(range(1, epochs+1), val_accuracy, label='Validation Accuracy')\n",
    "    plt.legend(loc='lower right')\n",
    "    plt.ylabel('accuracy')\n",
    "    plt.title('Training and Validation accuracy')\n",
    "    # plt.xlabel('epoch')\n",
    "    \n",
    "    plt.subplot(3, 1, 3)\n",
    "    plt.plot(range(1, epochs+1), auc, label='Training AUC')\n",
    "    plt.plot(range(1, epochs+1), val_auc, label='Validation AUC')\n",
    "    plt.legend(loc='lower right')\n",
    "    plt.ylabel('AUC')\n",
    "    plt.title('Training and Validation AUC')\n",
    "    plt.xlabel('epoch')\n",
    "\n",
    "    plt.show()\n",
    "    \n",
    "    return loss, val_loss, accuracy, val_accuracy, auc, val_auc"
   ]
  },
  {
   "cell_type": "code",
   "execution_count": 51,
   "id": "8f54ebde-d1d2-4769-b3f7-7ad2d1ec7f63",
   "metadata": {},
   "outputs": [
    {
     "data": {
      "image/png": "[encoded data removed]",
      "text/plain": [
       "<Figure size 800x800 with 3 Axes>"
      ]
     },
     "metadata": {},
     "output_type": "display_data"
    }
   ],
   "source": [
    "loss, val_loss, accuracy, val_accuracy, auc_2, val_auc_2 = learning_curves(history)"
   ]
  },
  {
   "cell_type": "code",
   "execution_count": 53,
   "id": "709ec6f4-19fe-44a2-a1ac-c32afae9f28d",
   "metadata": {},
   "outputs": [
    {
     "name": "stdout",
     "output_type": "stream",
     "text": [
      "Best validation accuracy maximum : 0.897.\n",
      "Best validation AUC maximum : 0.958.\n"
     ]
    }
   ],
   "source": [
    "print(f\"Best validation accuracy maximum : {np.round(np.max(history.history['val_accuracy']), 3)}.\")\n",
    "print(f\"Best validation AUC maximum : {np.round(np.max(history.history['val_auc']), 3)}.\")"
   ]
  },
  {
   "cell_type": "markdown",
   "id": "0e940f73-d690-40d8-be60-e52260f2e225",
   "metadata": {},
   "source": [
    "**We keep the model having the best auc score.**"
   ]
  },
  {
   "cell_type": "code",
   "execution_count": 54,
   "id": "938a55f3-3c08-450d-ad9f-29f55c4a25f8",
   "metadata": {},
   "outputs": [
    {
     "name": "stdout",
     "output_type": "stream",
     "text": [
      "13/13 [==============================] - 2s 132ms/step\n"
     ]
    }
   ],
   "source": [
    "loaded_predictions = model.predict(val_ds)"
   ]
  },
  {
   "cell_type": "code",
   "execution_count": 56,
   "id": "61c729ad-fbd9-4dec-86fe-0da8658028e0",
   "metadata": {},
   "outputs": [
    {
     "name": "stdout",
     "output_type": "stream",
     "text": [
      "Final AUC on the validation set : 0.958.\n",
      "Final accuracy on the validation set : 84.5%.\n"
     ]
    }
   ],
   "source": [
    "print(f\"Final AUC on the validation set : {np.round(np.max(history.history['val_auc']), 3)}.\")\n",
    "print(f\"Final accuracy on the validation set : {(y_val==(loaded_predictions>.5).flatten()).sum()*100/len(y_val)}%.\")"
   ]
  },
  {
   "cell_type": "markdown",
   "id": "7d0b026e-e5c4-4c56-ac4c-b783467cbce9",
   "metadata": {},
   "source": [
    "### Save"
   ]
  },
  {
   "cell_type": "code",
   "execution_count": 67,
   "id": "356dbfd8-72a0-4fa9-a150-f4f388b602c2",
   "metadata": {},
   "outputs": [
    {
     "name": "stderr",
     "output_type": "stream",
     "text": [
      "WARNING:absl:Found untraced functions such as _jit_compiled_convolution_op, _jit_compiled_convolution_op, _jit_compiled_convolution_op, _update_step_xla while saving (showing 4 of 4). These functions will not be directly callable after loading.\n"
     ]
    },
    {
     "name": "stdout",
     "output_type": "stream",
     "text": [
      "INFO:tensorflow:Assets written to: saved_model/classification_model/assets\n"
     ]
    },
    {
     "name": "stderr",
     "output_type": "stream",
     "text": [
      "INFO:tensorflow:Assets written to: saved_model/classification_model/assets\n"
     ]
    }
   ],
   "source": [
    "# Save the entire model as a SavedModel.\n",
    "!mkdir -p saved_model\n",
    "model.save('saved_model/classification_model')"
   ]
  },
  {
   "cell_type": "markdown",
   "id": "258ce074-5662-4a40-8825-6014eff87702",
   "metadata": {},
   "source": [
    "### Load"
   ]
  },
  {
   "cell_type": "code",
   "execution_count": 68,
   "id": "14de5ce1-6c34-44fb-aa1f-326d8c0223ab",
   "metadata": {},
   "outputs": [],
   "source": [
    "new_model = tf.keras.models.load_model('saved_model/classification_model')"
   ]
  },
  {
   "cell_type": "code",
   "execution_count": 69,
   "id": "1408f48c-0bda-47d8-bea3-310871e1c67c",
   "metadata": {},
   "outputs": [
    {
     "name": "stdout",
     "output_type": "stream",
     "text": [
      "13/13 - 3s - loss: 0.4800 - auc: 0.9148 - accuracy: 0.8450 - 3s/epoch - 240ms/step\n",
      "Model accuracy: 84.50%\n"
     ]
    }
   ],
   "source": [
    "# Evaluate the model\n",
    "loss, auc, acc = new_model.evaluate(val_ds, verbose=2)\n",
    "print(\"Model accuracy: {:5.2f}%\".format(100 * acc))"
   ]
  },
  {
   "cell_type": "code",
   "execution_count": null,
   "id": "982c0bb2",
   "metadata": {},
   "outputs": [],
   "source": []
  }
 ],
 "metadata": {
  "kernelspec": {
   "display_name": "DL",
   "language": "python",
   "name": "python3"
  },
  "language_info": {
   "codemirror_mode": {
    "name": "ipython",
    "version": 3
   },
   "file_extension": ".py",
   "mimetype": "text/x-python",
   "name": "python",
   "nbconvert_exporter": "python",
   "pygments_lexer": "ipython3",
   "version": "3.10.8"
  },
  "vscode": {
   "interpreter": {
    "hash": "66e74902f1d6e8036c78ccf8b6b6ad0a5af3494485c990feb6616d1efaddf921"
   }
  }
 },
 "nbformat": 4,
 "nbformat_minor": 5
}
